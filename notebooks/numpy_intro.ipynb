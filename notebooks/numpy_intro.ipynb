{
 "metadata": {
  "name": "",
  "signature": "sha256:8235e102c66165598f7b91d1f130c0e767044b35c4f6ac1f945481f558f38dee"
 },
 "nbformat": 3,
 "nbformat_minor": 0,
 "worksheets": [
  {
   "cells": [
    {
     "cell_type": "markdown",
     "metadata": {},
     "source": [
      "# Introduction to NumPy\n",
      "\n",
      "- *Jake VanderPlas*\n",
      "- *Presented at PyData @ Strata, New York City*\n",
      "- *October 15, 2014*\n",
      "\n",
      "*The source for this notebook can be found at http://github.com/jakevdp/PyData2014 *\n",
      "\n",
      "Note that this tutorial is written for **Python 3.3 or newer**. In order to be compatible with Python 2.x, we'll do some ``__future__`` imports to start off:"
     ]
    },
    {
     "cell_type": "code",
     "collapsed": false,
     "input": [
      "from __future__ import print_function, division"
     ],
     "language": "python",
     "metadata": {},
     "outputs": [],
     "prompt_number": 1
    },
    {
     "cell_type": "markdown",
     "metadata": {},
     "source": [
      "## Outline\n",
      "\n",
      "1. Motivating NumPy: it increases both *coding efficiency* and *computational efficiency*\n",
      "2. The core of it all: the ndarray\n",
      "3. Universal Functions and their properties\n",
      "4. Quick preview of broadcasting, masking, and fancy indexing"
     ]
    },
    {
     "cell_type": "markdown",
     "metadata": {},
     "source": [
      "## Motivating NumPy: Efficient Numerical Computing\n",
      "\n",
      "We'll start by attempting to motivate *why* you might want to use NumPy for numerical code.\n",
      "Suppose you'd like to use a plotting tool to graph $y = \\sin(x)$ for $0 \\le x \\le 2\\pi$.\n",
      "Let's think about how you might do this in Python.\n",
      "\n",
      "We'll briefly preview ``matplotlib`` for plotting here; more on this later!"
     ]
    },
    {
     "cell_type": "code",
     "collapsed": false,
     "input": [
      "%matplotlib inline\n",
      "import matplotlib.pyplot as plt\n",
      "\n",
      "# Setup ggplot style, if using matplotlib 1.4 or newer\n",
      "try:\n",
      "    plt.style.use('ggplot')\n",
      "    print(\"Setting Matplotlib style to ggplot\")\n",
      "except AttributeError:\n",
      "    print(\"Update matplotlib to enable styles\")"
     ],
     "language": "python",
     "metadata": {},
     "outputs": [
      {
       "output_type": "stream",
       "stream": "stdout",
       "text": [
        "Setting Matplotlib style to ggplot\n"
       ]
      }
     ],
     "prompt_number": 14
    },
    {
     "cell_type": "markdown",
     "metadata": {},
     "source": [
      "### First Try: A C-like Approach\n",
      "\n",
      "A new Python user with a background in a low-level language like C or Fortran might approach the problem this way:"
     ]
    },
    {
     "cell_type": "code",
     "collapsed": false,
     "input": [
      "import math\n",
      "xmin = 0\n",
      "xmax = 2 * math.pi\n",
      "N = 1000"
     ],
     "language": "python",
     "metadata": {},
     "outputs": [],
     "prompt_number": 4
    },
    {
     "cell_type": "code",
     "collapsed": false,
     "input": [
      "# build the arrays\n",
      "x = []\n",
      "y = []\n",
      "for i in range(N):\n",
      "    xval = xmin + i * (xmax - xmin) / N\n",
      "    x.append(xval)\n",
      "    y.append(math.sin(xval))\n",
      "\n",
      "# Plot the result with matplotlib\n",
      "plt.plot(x, y);"
     ],
     "language": "python",
     "metadata": {},
     "outputs": [
      {
       "metadata": {},
       "output_type": "display_data",
       "png": "[encoded data removed]",
       "text": [
        "<matplotlib.figure.Figure at 0x106ce8590>"
       ]
      }
     ],
     "prompt_number": 5
    },
    {
     "cell_type": "markdown",
     "metadata": {},
     "source": [
      "The C/Fortran approach is very prodecural, low-level, and \"hands-on\".\n",
      "Our program individually creates and modifies every value in each list."
     ]
    },
    {
     "cell_type": "markdown",
     "metadata": {},
     "source": [
      "### Second Try: A \"Pythonic\" Approach\n",
      "\n",
      "A more *Pythonic* approach would be to avoid the loops in favor of constructs like list or generator comprehensions. A Python expert without too much numerical background might proceed like this:"
     ]
    },
    {
     "cell_type": "code",
     "collapsed": false,
     "input": [
      "x = [xmin + i * (xmax - xmin) / N for i in range(N)]\n",
      "y = [math.sin(xi) for xi in x]\n",
      "\n",
      "plt.plot(x, y);"
     ],
     "language": "python",
     "metadata": {},
     "outputs": [
      {
       "metadata": {},
       "output_type": "display_data",
       "png": "[encoded data removed]",
       "text": [
        "<matplotlib.figure.Figure at 0x106e32c90>"
       ]
      }
     ],
     "prompt_number": 6
    },
    {
     "cell_type": "markdown",
     "metadata": {},
     "source": [
      "The Pythonic approach is beautiful, in that the lists are created in terse yet easy to grok one-line statements."
     ]
    },
    {
     "cell_type": "markdown",
     "metadata": {},
     "source": [
      "### Third Try: a NumPy Approach"
     ]
    },
    {
     "cell_type": "code",
     "collapsed": false,
     "input": [
      "import numpy as np\n",
      "\n",
      "x = np.linspace(xmin, xmax, N)\n",
      "y = np.sin(x)\n",
      "\n",
      "plt.plot(x, y);"
     ],
     "language": "python",
     "metadata": {},
     "outputs": [
      {
       "metadata": {},
       "output_type": "display_data",
       "png": "[encoded data removed]",
       "text": [
        "<matplotlib.figure.Figure at 0x107018750>"
       ]
      }
     ],
     "prompt_number": 7
    },
    {
     "cell_type": "markdown",
     "metadata": {},
     "source": [
      "The NumPy version is perhaps the simplest of all: instead of setting each element of each array \"by hand\", as it were, we instead use simple functions which will create arrays and operate on them element-wise.\n",
      "\n",
      "Let's look at all these side-by-side:"
     ]
    },
    {
     "cell_type": "code",
     "collapsed": false,
     "input": [
      "# 1. C/Fortran style\n",
      "x = []\n",
      "y = []\n",
      "for i in range(N):\n",
      "    xval = xmin + i * (xmax - xmin) / N\n",
      "    x.append(xval)\n",
      "    y.append(math.sin(xval))\n",
      "\n",
      "# 2. Pythonic approach\n",
      "x = [xmin + i * (xmax - xmin) / N for i in range(N)]\n",
      "y = [math.sin(xi) for xi in x]\n",
      "\n",
      "# 3. NumPy approach\n",
      "x = np.linspace(xmin, xmax, N)\n",
      "y = np.sin(x)"
     ],
     "language": "python",
     "metadata": {},
     "outputs": [],
     "prompt_number": 8
    },
    {
     "cell_type": "markdown",
     "metadata": {},
     "source": [
      "It's clear that NumPy is the most efficient to type; how does it compare when it comes to computation time? Let's use IPython's ``%%timeit`` cell magic to check. To make things more interesting, let's increase *N* to 100,000:"
     ]
    },
    {
     "cell_type": "code",
     "collapsed": false,
     "input": [
      "N = 100000"
     ],
     "language": "python",
     "metadata": {},
     "outputs": [],
     "prompt_number": 9
    },
    {
     "cell_type": "code",
     "collapsed": false,
     "input": [
      "%%timeit\n",
      "# 1. C/Fortran style\n",
      "x = []\n",
      "y = []\n",
      "for i in range(N):\n",
      "    xval = xmin + i * (xmax - xmin) / N\n",
      "    x.append(xval)\n",
      "    y.append(math.sin(xval))"
     ],
     "language": "python",
     "metadata": {},
     "outputs": [
      {
       "output_type": "stream",
       "stream": "stdout",
       "text": [
        "10 loops, best of 3: 60.2 ms per loop\n"
       ]
      }
     ],
     "prompt_number": 10
    },
    {
     "cell_type": "code",
     "collapsed": false,
     "input": [
      "%%timeit\n",
      "# 2. Pythonic style\n",
      "x = [xmin + i * (xmax - xmin) / N for i in range(N)]\n",
      "y = [math.sin(xi) for xi in x]"
     ],
     "language": "python",
     "metadata": {},
     "outputs": [
      {
       "output_type": "stream",
       "stream": "stdout",
       "text": [
        "10 loops, best of 3: 43.6 ms per loop\n"
       ]
      }
     ],
     "prompt_number": 11
    },
    {
     "cell_type": "code",
     "collapsed": false,
     "input": [
      "%%timeit\n",
      "# 3. NumPy approach\n",
      "x = np.linspace(xmin, xmax, N)\n",
      "y = np.sin(x)"
     ],
     "language": "python",
     "metadata": {},
     "outputs": [
      {
       "output_type": "stream",
       "stream": "stdout",
       "text": [
        "1000 loops, best of 3: 1.65 ms per loop\n"
       ]
      }
     ],
     "prompt_number": 12
    },
    {
     "cell_type": "markdown",
     "metadata": {},
     "source": [
      "We see that for this operation, NumPy is **30-40x faster** than either of the pure Python approaches!\n",
      "\n",
      "What we've seen above, in a nutshell, is why NumPy is useful for numerical computing:\n",
      "\n",
      "1. Numerical operations across arrays are **faster and more natural to type.**\n",
      "2. Numerical operations across arrays are **more clear to read.**\n",
      "3. Numerical operations across arrays are **more computationally efficient.**"
     ]
    },
    {
     "cell_type": "markdown",
     "metadata": {},
     "source": [
      "## So Why is NumPy So Much Faster?\n",
      "\n",
      "The reasons that these operations are so much faster in NumPy than in Python boils down to the fact that **Python is not a compiled language**, while NumPy pushes certain operations down into compiled code."
     ]
    },
    {
     "cell_type": "markdown",
     "metadata": {},
     "source": [
      "### 1. Python is Dynamically rather than Statically Typed\n",
      "\n",
      "*Yes, there are modern JIT-compiled languages which bridge this gap, but Python doesn't yet do this.*"
     ]
    },
    {
     "cell_type": "markdown",
     "metadata": {},
     "source": [
      "### 2. Python is Interpreted rather than Compiled\n",
      "\n",
      "*Yes, Python is compiled to a sort of bytecode (i.e. ``*.pyc`` files), but no optimization takes place: it's basically a 1-to-1 mapping to the Python code that generates it*"
     ]
    },
    {
     "cell_type": "markdown",
     "metadata": {},
     "source": [
      "### 3. Python's flexible object model can lead to inefficiencies\n",
      "\n",
      "*Yes, Python has built-in ``array`` objects but they are nowhere near as useful as NumPy's arrays.*"
     ]
    },
    {
     "cell_type": "code",
     "collapsed": false,
     "input": [],
     "language": "python",
     "metadata": {},
     "outputs": []
    }
   ],
   "metadata": {}
  }
 ]
}